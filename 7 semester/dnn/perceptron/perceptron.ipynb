{
 "cells": [
  {
   "cell_type": "code",
   "execution_count": 46,
   "id": "b66b4234-ea26-4e35-af69-5ac64be4c1f7",
   "metadata": {
    "editable": true,
    "slideshow": {
     "slide_type": ""
    },
    "tags": []
   },
   "outputs": [],
   "source": [
    "import pandas as pd\n",
    "import numpy as np"
   ]
  },
  {
   "cell_type": "code",
   "execution_count": null,
   "id": "ffeccaee-788c-4e4f-acfa-8b686e4ef145",
   "metadata": {},
   "outputs": [],
   "source": [
    "class Perceptron:\n",
    "    '''\n",
    "      Inicializa os pesos\n",
    "    '''\n",
    "    def __init__(self, x):\n",
    "        self.weights = np.random.rand(x.shape[0]) # TODO:change to gaussian or other \n",
    "        \n",
    "        \n",
    "        \n",
    "        \n",
    "    ''' \n",
    "        Função de ativação do Degrau Bipolar, que retorna 1 caso a entrada seja positiva\n",
    "        ou -1 caso a entrada seja negativa\n",
    "    '''\n",
    "    def activation(self, u):\n",
    "        return np.sign(u)\n",
    "    \n",
    "    \n",
    "    ''' \n",
    "        Treina o Perpectron por um determinado número de epochs, armazenando\n",
    "        os pesos, acuracia e erros\n",
    "    '''\n",
    "    def train(self, epochs, LR, X_train, Y_train):\n",
    "        \n",
    "        loss = []\n",
    "        acc = []\n",
    "        for epoch in range(epochs):\n",
    "            \n",
    "            epoch_loss = []\n",
    "            for i in range(X_train.shape[1]):\n",
    "                u = np.dot(self.weights, X_train[i])\n",
    "                \n",
    "                y = self.activation(u)\n",
    "                \n",
    "                if (y != Y_train[i]):\n",
    "                    error = y - Y_train[i]\n",
    "                    self.weights = self.weights + LR * (error) * X_train[i]\n",
    "                    \n",
    "                    epoch_loss.append(error)\n",
    "            \n",
    "            \n",
    "            loss.append(np.mean(epoch_loss))\n",
    "                                 \n",
    "    \n",
    "        self.loss = loss         \n",
    "        \n",
    "    def eval(self, X_test, Y_test):\n",
    "        pass\n",
    "        \n"
   ]
  },
  {
   "cell_type": "markdown",
   "id": "3f95b099",
   "metadata": {},
   "source": [
    "### Lendo arquivos do dataset\n"
   ]
  },
  {
   "cell_type": "code",
   "execution_count": 48,
   "id": "299b9474",
   "metadata": {},
   "outputs": [
    {
     "name": "stdout",
     "output_type": "stream",
     "text": [
      "[-1.  1.  1.  1. -1.  1.  1.  1.  1.  1.  1.  1.  1. -1.  1. -1.  1. -1.\n",
      "  1.  1.  1.  1.  1. -1. -1. -1.  1.  1.  1.  1. -1. -1.  1.  1.  1. -1.\n",
      "  1.  1. -1.  1. -1. -1. -1.  1.  1. -1. -1.  1. -1.  1. -1.  1. -1.  1.\n",
      " -1.  1.  1.  1.  1. -1.  1.  1.  1.  1. -1.  1.  1.  1.  1.  1.  1.  1.\n",
      "  1.  1. -1.  1. -1.  1. -1. -1.  1.  1. -1. -1. -1.  1.  1. -1. -1.  1.\n",
      " -1.  1.  1.  1.  1.  1. -1.  1.  1. -1. -1.  1.  1. -1. -1.  1.  1.  1.\n",
      "  1.  1. -1.  1.  1.  1. -1.  1. -1.  1.  1. -1. -1.  1. -1.  1.  1.  1.\n",
      " -1.  1.  1. -1.  1.  1. -1.  1. -1.  1.  1.  1.  1.  1.]\n"
     ]
    }
   ],
   "source": [
    "\n",
    "def load_file_dataset(filename):\n",
    "    df_train = pd.read_csv(filename)\n",
    "    \n",
    "    X =  df_train.drop('label', axis=1).values.T\n",
    "    Y = df_train['label'].values.reshape(1,-1)\n",
    "    \n",
    "    return X, Y \n",
    "\n",
    "\n",
    "\n",
    "X_train, Y_train = load_file_dataset(\"train_dataset1.csv\")\n",
    "X_test, Y_test = load_file_dataset(\"test_dataset1.csv\")\n",
    "\n",
    "perceptron = Perceptron(x=X_train)\n",
    "\n",
    "perceptron.train(1, 0.1, X_train, Y_train)"
   ]
  },
  {
   "cell_type": "code",
   "execution_count": null,
   "id": "a1a3bead",
   "metadata": {},
   "outputs": [],
   "source": []
  },
  {
   "cell_type": "code",
   "execution_count": null,
   "id": "b6d4f56e",
   "metadata": {},
   "outputs": [],
   "source": []
  }
 ],
 "metadata": {
  "kernelspec": {
   "display_name": "ulttralytics",
   "language": "python",
   "name": "python3"
  },
  "language_info": {
   "codemirror_mode": {
    "name": "ipython",
    "version": 3
   },
   "file_extension": ".py",
   "mimetype": "text/x-python",
   "name": "python",
   "nbconvert_exporter": "python",
   "pygments_lexer": "ipython3",
   "version": "3.11.11"
  }
 },
 "nbformat": 4,
 "nbformat_minor": 5
}
